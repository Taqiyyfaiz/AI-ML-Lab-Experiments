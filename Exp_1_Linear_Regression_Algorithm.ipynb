{
  "nbformat": 4,
  "nbformat_minor": 0,
  "metadata": {
    "colab": {
      "provenance": [],
      "authorship_tag": "ABX9TyOxX+tAuAm0nENBGwVyoWOR",
      "include_colab_link": true
    },
    "kernelspec": {
      "name": "python3",
      "display_name": "Python 3"
    },
    "language_info": {
      "name": "python"
    }
  },
  "cells": [
    {
      "cell_type": "markdown",
      "metadata": {
        "id": "view-in-github",
        "colab_type": "text"
      },
      "source": [
        "<a href=\"https://colab.research.google.com/github/Taqiyyfaiz/AI-ML-Lab-Experiments/blob/main/Exp_1_Linear_Regression_Algorithm.ipynb\" target=\"_parent\"><img src=\"https://colab.research.google.com/assets/colab-badge.svg\" alt=\"Open In Colab\"/></a>"
      ]
    },
    {
      "cell_type": "markdown",
      "source": [
        "# Linear Regression Algorithm"
      ],
      "metadata": {
        "id": "459KaxFIBDY_"
      }
    },
    {
      "cell_type": "code",
      "execution_count": 18,
      "metadata": {
        "id": "hQobRPoU_Gue"
      },
      "outputs": [],
      "source": [
        "# pandas: For data manipulation and analysis.\n",
        "import pandas as pd\n",
        "# matplotlib.pyplot: For plotting graphs.\n",
        "import matplotlib.pyplot as plt\n",
        "# sklearn: For machine learning algorithms. & sklearn.model_selection.train_test_split: To split the dataset into training and testing sets.\n",
        "from sklearn.model_selection import train_test_split\n",
        "# sklearn.metrics: To evaluate the model's performance.\n",
        "from sklearn.metrics import mean_squared_error, r2_score\n",
        "# sklearn.linear_model: To implement linear regression.\n",
        "from sklearn.linear_model import LinearRegression"
      ]
    },
    {
      "cell_type": "code",
      "source": [
        "# The Dataset is Loaded from a CSV file.\n",
        "df = pd.read_csv(\"/content/EXP 1 - auto mpg (1).csv\")"
      ],
      "metadata": {
        "id": "TULjDs7dAq_z"
      },
      "execution_count": 19,
      "outputs": []
    },
    {
      "cell_type": "code",
      "source": [
        "# df.head(): Displays the first few rows of the dataset.\n",
        "print(df.head())\n",
        "# df.info(): Provides a summary of the dataset, including the data types and non-null counts.\n",
        "print(df.info())"
      ],
      "metadata": {
        "colab": {
          "base_uri": "https://localhost:8080/"
        },
        "id": "7-SQ9xTXBLTb",
        "outputId": "7b6c1cf7-5ec9-4407-e55e-c1fdadea4e09"
      },
      "execution_count": 20,
      "outputs": [
        {
          "output_type": "stream",
          "name": "stdout",
          "text": [
            "    mpg  cylinders  displacement  horsepower  weight  acceleration  \\\n",
            "0  18.0          8         307.0       130.0    3504          12.0   \n",
            "1  15.0          8         350.0       165.0    3693          11.5   \n",
            "2  18.0          8         318.0       150.0    3436          11.0   \n",
            "3  16.0          8         304.0       150.0    3433          12.0   \n",
            "4  17.0          8         302.0       140.0    3449          10.5   \n",
            "\n",
            "   model_year origin                       name  \n",
            "0          70    usa  chevrolet chevelle malibu  \n",
            "1          70    usa          buick skylark 320  \n",
            "2          70    usa         plymouth satellite  \n",
            "3          70    usa              amc rebel sst  \n",
            "4          70    usa                ford torino  \n",
            "<class 'pandas.core.frame.DataFrame'>\n",
            "RangeIndex: 398 entries, 0 to 397\n",
            "Data columns (total 9 columns):\n",
            " #   Column        Non-Null Count  Dtype  \n",
            "---  ------        --------------  -----  \n",
            " 0   mpg           398 non-null    float64\n",
            " 1   cylinders     398 non-null    int64  \n",
            " 2   displacement  398 non-null    float64\n",
            " 3   horsepower    392 non-null    float64\n",
            " 4   weight        398 non-null    int64  \n",
            " 5   acceleration  398 non-null    float64\n",
            " 6   model_year    398 non-null    int64  \n",
            " 7   origin        398 non-null    object \n",
            " 8   name          398 non-null    object \n",
            "dtypes: float64(4), int64(3), object(2)\n",
            "memory usage: 28.1+ KB\n",
            "None\n"
          ]
        }
      ]
    },
    {
      "cell_type": "code",
      "source": [
        "# df.describe(): Provides summary statistics of the dataset.\n",
        "print(df.describe())"
      ],
      "metadata": {
        "colab": {
          "base_uri": "https://localhost:8080/"
        },
        "id": "UXbXAukgBYLg",
        "outputId": "72820813-dfa7-40f9-881e-9fd02453b2e0"
      },
      "execution_count": 21,
      "outputs": [
        {
          "output_type": "stream",
          "name": "stdout",
          "text": [
            "              mpg   cylinders  displacement  horsepower       weight  \\\n",
            "count  398.000000  398.000000    398.000000  392.000000   398.000000   \n",
            "mean    23.514573    5.454774    193.425879  104.469388  2970.424623   \n",
            "std      7.815984    1.701004    104.269838   38.491160   846.841774   \n",
            "min      9.000000    3.000000     68.000000   46.000000  1613.000000   \n",
            "25%     17.500000    4.000000    104.250000   75.000000  2223.750000   \n",
            "50%     23.000000    4.000000    148.500000   93.500000  2803.500000   \n",
            "75%     29.000000    8.000000    262.000000  126.000000  3608.000000   \n",
            "max     46.600000    8.000000    455.000000  230.000000  5140.000000   \n",
            "\n",
            "       acceleration  model_year  \n",
            "count    398.000000  398.000000  \n",
            "mean      15.568090   76.010050  \n",
            "std        2.757689    3.697627  \n",
            "min        8.000000   70.000000  \n",
            "25%       13.825000   73.000000  \n",
            "50%       15.500000   76.000000  \n",
            "75%       17.175000   79.000000  \n",
            "max       24.800000   82.000000  \n"
          ]
        }
      ]
    },
    {
      "cell_type": "code",
      "source": [
        "# df.isna().sum(): Checks for missing values.\n",
        "df.isna().sum()\n",
        "# df.dropna(): Removes rows with missing values.\n",
        "df = df.dropna()"
      ],
      "metadata": {
        "id": "UqlewrHSBdgv"
      },
      "execution_count": 22,
      "outputs": []
    },
    {
      "cell_type": "code",
      "source": [
        "# X: Features (independent variables).\n",
        "X = df[['cylinders', 'displacement', 'horsepower', 'weight', 'acceleration']]\n",
        "# y: Target variable (dependent variable, in this case, miles per gallon (mpg)).\n",
        "y = df[['mpg']]"
      ],
      "metadata": {
        "id": "15vfrgtOBlqd"
      },
      "execution_count": 23,
      "outputs": []
    },
    {
      "cell_type": "code",
      "source": [
        "# train_test_split: Splits the dataset into training (80%) and testing (20%) sets.\n",
        "X_train, X_test, y_train, y_test = train_test_split(X, y, test_size=0.2, random_state=42)"
      ],
      "metadata": {
        "id": "qFb7ErcVB4rO"
      },
      "execution_count": 24,
      "outputs": []
    },
    {
      "cell_type": "code",
      "source": [
        "# LinearRegression(): Creates an instance of the linear regression model.\n",
        "model = LinearRegression()\n",
        "# model.fit(X_train, y_train): Trains the model using the training data.\n",
        "model.fit(X_train, y_train)"
      ],
      "metadata": {
        "colab": {
          "base_uri": "https://localhost:8080/",
          "height": 75
        },
        "id": "ot02b_i6CCFc",
        "outputId": "f4fdc773-ed2d-4b3d-de9d-752043de3d0a"
      },
      "execution_count": 25,
      "outputs": [
        {
          "output_type": "execute_result",
          "data": {
            "text/plain": [
              "LinearRegression()"
            ],
            "text/html": [
              "<style>#sk-container-id-2 {color: black;}#sk-container-id-2 pre{padding: 0;}#sk-container-id-2 div.sk-toggleable {background-color: white;}#sk-container-id-2 label.sk-toggleable__label {cursor: pointer;display: block;width: 100%;margin-bottom: 0;padding: 0.3em;box-sizing: border-box;text-align: center;}#sk-container-id-2 label.sk-toggleable__label-arrow:before {content: \"▸\";float: left;margin-right: 0.25em;color: #696969;}#sk-container-id-2 label.sk-toggleable__label-arrow:hover:before {color: black;}#sk-container-id-2 div.sk-estimator:hover label.sk-toggleable__label-arrow:before {color: black;}#sk-container-id-2 div.sk-toggleable__content {max-height: 0;max-width: 0;overflow: hidden;text-align: left;background-color: #f0f8ff;}#sk-container-id-2 div.sk-toggleable__content pre {margin: 0.2em;color: black;border-radius: 0.25em;background-color: #f0f8ff;}#sk-container-id-2 input.sk-toggleable__control:checked~div.sk-toggleable__content {max-height: 200px;max-width: 100%;overflow: auto;}#sk-container-id-2 input.sk-toggleable__control:checked~label.sk-toggleable__label-arrow:before {content: \"▾\";}#sk-container-id-2 div.sk-estimator input.sk-toggleable__control:checked~label.sk-toggleable__label {background-color: #d4ebff;}#sk-container-id-2 div.sk-label input.sk-toggleable__control:checked~label.sk-toggleable__label {background-color: #d4ebff;}#sk-container-id-2 input.sk-hidden--visually {border: 0;clip: rect(1px 1px 1px 1px);clip: rect(1px, 1px, 1px, 1px);height: 1px;margin: -1px;overflow: hidden;padding: 0;position: absolute;width: 1px;}#sk-container-id-2 div.sk-estimator {font-family: monospace;background-color: #f0f8ff;border: 1px dotted black;border-radius: 0.25em;box-sizing: border-box;margin-bottom: 0.5em;}#sk-container-id-2 div.sk-estimator:hover {background-color: #d4ebff;}#sk-container-id-2 div.sk-parallel-item::after {content: \"\";width: 100%;border-bottom: 1px solid gray;flex-grow: 1;}#sk-container-id-2 div.sk-label:hover label.sk-toggleable__label {background-color: #d4ebff;}#sk-container-id-2 div.sk-serial::before {content: \"\";position: absolute;border-left: 1px solid gray;box-sizing: border-box;top: 0;bottom: 0;left: 50%;z-index: 0;}#sk-container-id-2 div.sk-serial {display: flex;flex-direction: column;align-items: center;background-color: white;padding-right: 0.2em;padding-left: 0.2em;position: relative;}#sk-container-id-2 div.sk-item {position: relative;z-index: 1;}#sk-container-id-2 div.sk-parallel {display: flex;align-items: stretch;justify-content: center;background-color: white;position: relative;}#sk-container-id-2 div.sk-item::before, #sk-container-id-2 div.sk-parallel-item::before {content: \"\";position: absolute;border-left: 1px solid gray;box-sizing: border-box;top: 0;bottom: 0;left: 50%;z-index: -1;}#sk-container-id-2 div.sk-parallel-item {display: flex;flex-direction: column;z-index: 1;position: relative;background-color: white;}#sk-container-id-2 div.sk-parallel-item:first-child::after {align-self: flex-end;width: 50%;}#sk-container-id-2 div.sk-parallel-item:last-child::after {align-self: flex-start;width: 50%;}#sk-container-id-2 div.sk-parallel-item:only-child::after {width: 0;}#sk-container-id-2 div.sk-dashed-wrapped {border: 1px dashed gray;margin: 0 0.4em 0.5em 0.4em;box-sizing: border-box;padding-bottom: 0.4em;background-color: white;}#sk-container-id-2 div.sk-label label {font-family: monospace;font-weight: bold;display: inline-block;line-height: 1.2em;}#sk-container-id-2 div.sk-label-container {text-align: center;}#sk-container-id-2 div.sk-container {/* jupyter's `normalize.less` sets `[hidden] { display: none; }` but bootstrap.min.css set `[hidden] { display: none !important; }` so we also need the `!important` here to be able to override the default hidden behavior on the sphinx rendered scikit-learn.org. See: https://github.com/scikit-learn/scikit-learn/issues/21755 */display: inline-block !important;position: relative;}#sk-container-id-2 div.sk-text-repr-fallback {display: none;}</style><div id=\"sk-container-id-2\" class=\"sk-top-container\"><div class=\"sk-text-repr-fallback\"><pre>LinearRegression()</pre><b>In a Jupyter environment, please rerun this cell to show the HTML representation or trust the notebook. <br />On GitHub, the HTML representation is unable to render, please try loading this page with nbviewer.org.</b></div><div class=\"sk-container\" hidden><div class=\"sk-item\"><div class=\"sk-estimator sk-toggleable\"><input class=\"sk-toggleable__control sk-hidden--visually\" id=\"sk-estimator-id-2\" type=\"checkbox\" checked><label for=\"sk-estimator-id-2\" class=\"sk-toggleable__label sk-toggleable__label-arrow\">LinearRegression</label><div class=\"sk-toggleable__content\"><pre>LinearRegression()</pre></div></div></div></div></div>"
            ]
          },
          "metadata": {},
          "execution_count": 25
        }
      ]
    },
    {
      "cell_type": "code",
      "source": [
        "# model.predict(X_test): Makes predictions on the test data.\n",
        "y_pred = model.predict(X_test)"
      ],
      "metadata": {
        "id": "uYrmCFyzCFrv"
      },
      "execution_count": 26,
      "outputs": []
    },
    {
      "cell_type": "code",
      "source": [
        "# mean_squared_error(y_test, y_pred): Calculates the mean squared error.\n",
        "mse = mean_squared_error(y_test, y_pred)\n",
        "# r2_score(y_test, y_pred): Calculates the R-squared value, which indicates the proportion of the variance in the dependent variable that is predictable from the independent variables.\n",
        "r2 = r2_score(y_test, y_pred)"
      ],
      "metadata": {
        "id": "ooItyMBOCQHK"
      },
      "execution_count": 27,
      "outputs": []
    },
    {
      "cell_type": "code",
      "source": [
        "print(f\"Mean Squared Error: {mse}\")\n",
        "print(f\"R-squared: {r2}\")"
      ],
      "metadata": {
        "colab": {
          "base_uri": "https://localhost:8080/"
        },
        "id": "6rFtXyC-CWqj",
        "outputId": "70e7cc70-e5cd-45f9-bea7-4d8bc19b94d7"
      },
      "execution_count": 28,
      "outputs": [
        {
          "output_type": "stream",
          "name": "stdout",
          "text": [
            "Mean Squared Error: 17.939171976631275\n",
            "R-squared: 0.648531211088908\n"
          ]
        }
      ]
    },
    {
      "cell_type": "markdown",
      "source": [
        "# This section focuses on the relationship between weight and mpg."
      ],
      "metadata": {
        "id": "Pdjtb7F5G6qy"
      }
    },
    {
      "cell_type": "code",
      "source": [
        "# X_weight: Uses only the weight feature for this part of the analysis.\n",
        "X_weight = df[['weight']]\n",
        "# train_test_split: Splits the data again, but only for the weight feature.\n",
        "X_train_weight, X_test_weight, y_train_weight, y_test_weight = train_test_split(X_weight, y, test_size=0.2, random_state=42)\n",
        "# LinearRegression(): Creates a new instance of the linear regression model.\n",
        "model_weight = LinearRegression()\n",
        "# model_weight.fit(X_train_weight, y_train_weight): Trains the model using the weight feature\n",
        "model_weight.fit(X_train_weight, y_train_weight)\n",
        "# model_weight.predict(X_test_weight): Makes predictions using the weight feature.\n",
        "y_pred_weight = model_weight.predict(X_test_weight)"
      ],
      "metadata": {
        "id": "k5eOlbfJCj_D"
      },
      "execution_count": 29,
      "outputs": []
    },
    {
      "cell_type": "code",
      "source": [
        "# plt.scatter: Plots the actual mpg values.\n",
        "plt.scatter(X_test_weight, y_test_weight, color='blue', label='Actual MPG')\n",
        "# plt.plot: Plots the predicted mpg values.\n",
        "plt.plot(X_test_weight, y_pred_weight, color='red', label='Predicted MPG')\n",
        "# plt.xlabel, plt.ylabel, plt.title, plt.legend, plt.show: Configures the plot with labels, title, legend, and displays it.\n",
        "plt.xlabel('Weight')\n",
        "plt.ylabel('MPG')\n",
        "plt.title('Linear Regression: Weight vs MPG')\n",
        "plt.legend()\n",
        "plt.show()"
      ],
      "metadata": {
        "colab": {
          "base_uri": "https://localhost:8080/",
          "height": 472
        },
        "id": "vk5Y1gvGC5ja",
        "outputId": "49e02929-cceb-4a83-ca02-beeeed7078f8"
      },
      "execution_count": 30,
      "outputs": [
        {
          "output_type": "display_data",
          "data": {
            "text/plain": [
              "<Figure size 640x480 with 1 Axes>"
            ],
            "image/png": "[encoded data removed]"
          },
          "metadata": {}
        }
      ]
    },
    {
      "cell_type": "markdown",
      "source": [
        "# Name: Md.Taqiyy Faiz.M\n",
        "# RegNo: 221191101088"
      ],
      "metadata": {
        "id": "5NmW_fJ_ETFo"
      }
    }
  ]
}